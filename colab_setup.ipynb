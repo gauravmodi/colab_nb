{
  "nbformat": 4,
  "nbformat_minor": 0,
  "metadata": {
    "colab": {
      "name": "colab_setup",
      "version": "0.3.2",
      "provenance": [],
      "collapsed_sections": [],
      "include_colab_link": true
    },
    "kernelspec": {
      "name": "python3",
      "display_name": "Python 3"
    }
  },
  "cells": [
    {
      "cell_type": "markdown",
      "metadata": {
        "id": "view-in-github",
        "colab_type": "text"
      },
      "source": [
        "<a href=\"https://colab.research.google.com/github/gauravmodi/colab_nb/blob/master/colab_setup.ipynb\" target=\"_parent\"><img src=\"https://colab.research.google.com/assets/colab-badge.svg\" alt=\"Open In Colab\"/></a>"
      ]
    },
    {
      "cell_type": "markdown",
      "metadata": {
        "id": "QAR4Wo6AS39A",
        "colab_type": "text"
      },
      "source": [
        "## Google Colab Notebook Setup "
      ]
    },
    {
      "cell_type": "markdown",
      "metadata": {
        "id": "M3lglt2ZScKE",
        "colab_type": "text"
      },
      "source": [
        "### Mount your Google Drive"
      ]
    },
    {
      "cell_type": "code",
      "metadata": {
        "id": "VoSbniwhSeuU",
        "colab_type": "code",
        "colab": {}
      },
      "source": [
        "from google.colab import drive\n",
        "drive.mount('/content/drive/')"
      ],
      "execution_count": 0,
      "outputs": []
    },
    {
      "cell_type": "markdown",
      "metadata": {
        "id": "uNdzdGUcS746",
        "colab_type": "text"
      },
      "source": [
        ""
      ]
    },
    {
      "cell_type": "markdown",
      "metadata": {
        "id": "Svd3LubcSi77",
        "colab_type": "text"
      },
      "source": [
        "### Change current directory in notebook"
      ]
    },
    {
      "cell_type": "code",
      "metadata": {
        "id": "gV-JmY1GO9M1",
        "colab_type": "code",
        "colab": {}
      },
      "source": [
        "import os\n",
        "os.chdir(\"/content/drive/My Drive/Colab/\")"
      ],
      "execution_count": 0,
      "outputs": []
    },
    {
      "cell_type": "markdown",
      "metadata": {
        "id": "6kVPn-L8StiU",
        "colab_type": "text"
      },
      "source": [
        "### Set up github (incomplete) "
      ]
    },
    {
      "cell_type": "code",
      "metadata": {
        "id": "GItvS-zCO9RS",
        "colab_type": "code",
        "colab": {}
      },
      "source": [
        "!git config --global user.email \"USERNAME@gmail.com\""
      ],
      "execution_count": 0,
      "outputs": []
    },
    {
      "cell_type": "code",
      "metadata": {
        "id": "meAV5vkrO9P6",
        "colab_type": "code",
        "colab": {}
      },
      "source": [
        "!git config --global user.name \"FirstName LastName\""
      ],
      "execution_count": 0,
      "outputs": []
    },
    {
      "cell_type": "markdown",
      "metadata": {
        "id": "0EXP-6b6N0V1",
        "colab_type": "text"
      },
      "source": [
        "### List all files in current directory"
      ]
    },
    {
      "cell_type": "code",
      "metadata": {
        "id": "VCdSuG5NPWUp",
        "colab_type": "code",
        "colab": {}
      },
      "source": [
        "!ls"
      ],
      "execution_count": 0,
      "outputs": []
    },
    {
      "cell_type": "markdown",
      "metadata": {
        "id": "lXhJfsA-SMeC",
        "colab_type": "text"
      },
      "source": [
        "### Upload code from your system"
      ]
    },
    {
      "cell_type": "code",
      "metadata": {
        "id": "F-U5prO5SLpn",
        "colab_type": "code",
        "colab": {}
      },
      "source": [
        "from google.colab import files\n",
        "uploaded = files.upload()"
      ],
      "execution_count": 0,
      "outputs": []
    },
    {
      "cell_type": "markdown",
      "metadata": {
        "id": "ew5PZ6yDSR1I",
        "colab_type": "text"
      },
      "source": [
        "### Make zip file of your Data"
      ]
    },
    {
      "cell_type": "code",
      "metadata": {
        "id": "xI6TjtMKSLw0",
        "colab_type": "code",
        "colab": {}
      },
      "source": [
        "from google.colab import files\n",
        "import zipfile\n",
        "import sys\n",
        "foldername = 'your folder or filename'\n",
        "zipfile.ZipFile('Drive/'+foldername + '.zip', 'w', zipfile.ZIP_DEFLATED)"
      ],
      "execution_count": 0,
      "outputs": []
    },
    {
      "cell_type": "markdown",
      "metadata": {
        "id": "YxF4fFNWSYBG",
        "colab_type": "text"
      },
      "source": [
        "### Downloading the data from the colab"
      ]
    },
    {
      "cell_type": "code",
      "metadata": {
        "id": "BJrfoTjnSLz8",
        "colab_type": "code",
        "colab": {}
      },
      "source": [
        "from google.colab import files\n",
        "files.download('Drive/test.zip')"
      ],
      "execution_count": 0,
      "outputs": []
    }
  ]
}